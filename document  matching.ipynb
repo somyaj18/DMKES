{
 "cells": [
  {
   "cell_type": "code",
   "execution_count": 1,
   "id": "a7513fdd-7959-4035-a601-b623b25e8c0a",
   "metadata": {},
   "outputs": [
    {
     "name": "stdout",
     "output_type": "stream",
     "text": [
      "Collecting PyMuPDF\n",
      "  Downloading PyMuPDF-1.24.14-cp39-abi3-win_amd64.whl.metadata (3.4 kB)\n",
      "Downloading PyMuPDF-1.24.14-cp39-abi3-win_amd64.whl (16.3 MB)\n",
      "   ---------------------------------------- 0.0/16.3 MB ? eta -:--:--\n",
      "    --------------------------------------- 0.3/16.3 MB ? eta -:--:--\n",
      "   - -------------------------------------- 0.5/16.3 MB 1.4 MB/s eta 0:00:12\n",
      "   - -------------------------------------- 0.8/16.3 MB 1.5 MB/s eta 0:00:11\n",
      "   --- ------------------------------------ 1.3/16.3 MB 1.6 MB/s eta 0:00:10\n",
      "   --- ------------------------------------ 1.6/16.3 MB 1.6 MB/s eta 0:00:09\n",
      "   ----- ---------------------------------- 2.1/16.3 MB 1.8 MB/s eta 0:00:08\n",
      "   ------ --------------------------------- 2.6/16.3 MB 1.9 MB/s eta 0:00:08\n",
      "   ------- -------------------------------- 3.1/16.3 MB 2.0 MB/s eta 0:00:07\n",
      "   --------- ------------------------------ 3.9/16.3 MB 2.2 MB/s eta 0:00:06\n",
      "   ----------- ---------------------------- 4.7/16.3 MB 2.4 MB/s eta 0:00:05\n",
      "   -------------- ------------------------- 5.8/16.3 MB 2.6 MB/s eta 0:00:05\n",
      "   ---------------- ----------------------- 6.6/16.3 MB 2.8 MB/s eta 0:00:04\n",
      "   ------------------ --------------------- 7.3/16.3 MB 2.9 MB/s eta 0:00:04\n",
      "   ------------------- -------------------- 8.1/16.3 MB 2.9 MB/s eta 0:00:03\n",
      "   ---------------------- ----------------- 9.2/16.3 MB 3.0 MB/s eta 0:00:03\n",
      "   ------------------------ --------------- 10.0/16.3 MB 3.1 MB/s eta 0:00:03\n",
      "   -------------------------- ------------- 10.7/16.3 MB 3.1 MB/s eta 0:00:02\n",
      "   ----------------------------- ---------- 11.8/16.3 MB 3.2 MB/s eta 0:00:02\n",
      "   ------------------------------- -------- 12.8/16.3 MB 3.3 MB/s eta 0:00:02\n",
      "   --------------------------------- ------ 13.6/16.3 MB 3.3 MB/s eta 0:00:01\n",
      "   ------------------------------------ --- 14.7/16.3 MB 3.4 MB/s eta 0:00:01\n",
      "   ------------------------------------- -- 15.2/16.3 MB 3.4 MB/s eta 0:00:01\n",
      "   ---------------------------------------  16.3/16.3 MB 3.4 MB/s eta 0:00:01\n",
      "   ---------------------------------------- 16.3/16.3 MB 3.4 MB/s eta 0:00:00\n",
      "Installing collected packages: PyMuPDF\n",
      "Successfully installed PyMuPDF-1.24.14\n"
     ]
    }
   ],
   "source": [
    "\n",
    "!pip install PyMuPDF"
   ]
  },
  {
   "cell_type": "code",
   "execution_count": 3,
   "id": "b2125571-7c19-4f06-abb0-b1fbbc18810a",
   "metadata": {},
   "outputs": [
    {
     "name": "stdout",
     "output_type": "stream",
     "text": [
      "Requirement already satisfied: pandas in c:\\users\\hp\\anaconda3\\lib\\site-packages (2.2.2)\n",
      "Requirement already satisfied: numpy>=1.26.0 in c:\\users\\hp\\anaconda3\\lib\\site-packages (from pandas) (1.26.4)\n",
      "Requirement already satisfied: python-dateutil>=2.8.2 in c:\\users\\hp\\anaconda3\\lib\\site-packages (from pandas) (2.9.0.post0)\n",
      "Requirement already satisfied: pytz>=2020.1 in c:\\users\\hp\\anaconda3\\lib\\site-packages (from pandas) (2024.1)\n",
      "Requirement already satisfied: tzdata>=2022.7 in c:\\users\\hp\\anaconda3\\lib\\site-packages (from pandas) (2023.3)\n",
      "Requirement already satisfied: six>=1.5 in c:\\users\\hp\\anaconda3\\lib\\site-packages (from python-dateutil>=2.8.2->pandas) (1.16.0)\n"
     ]
    }
   ],
   "source": [
    "!pip install pandas"
   ]
  },
  {
   "cell_type": "code",
   "execution_count": 5,
   "id": "d2925494-48f8-46b8-8762-c1a25e10512b",
   "metadata": {},
   "outputs": [
    {
     "name": "stdout",
     "output_type": "stream",
     "text": [
      "Requirement already satisfied: nltk in c:\\users\\hp\\anaconda3\\lib\\site-packages (3.9.1)\n",
      "Requirement already satisfied: click in c:\\users\\hp\\anaconda3\\lib\\site-packages (from nltk) (8.1.7)\n",
      "Requirement already satisfied: joblib in c:\\users\\hp\\anaconda3\\lib\\site-packages (from nltk) (1.4.2)\n",
      "Requirement already satisfied: regex>=2021.8.3 in c:\\users\\hp\\anaconda3\\lib\\site-packages (from nltk) (2024.9.11)\n",
      "Requirement already satisfied: tqdm in c:\\users\\hp\\anaconda3\\lib\\site-packages (from nltk) (4.66.5)\n",
      "Requirement already satisfied: colorama in c:\\users\\hp\\anaconda3\\lib\\site-packages (from click->nltk) (0.4.6)\n"
     ]
    }
   ],
   "source": [
    "!pip install nltk"
   ]
  },
  {
   "cell_type": "code",
   "execution_count": 11,
   "id": "28b849a6-9e48-4fd0-aea1-9b7cfe82fe30",
   "metadata": {},
   "outputs": [
    {
     "name": "stdout",
     "output_type": "stream",
     "text": [
      "Collecting PrettyTable\n",
      "  Downloading prettytable-3.12.0-py3-none-any.whl.metadata (30 kB)\n",
      "Requirement already satisfied: wcwidth in c:\\users\\hp\\anaconda3\\lib\\site-packages (from PrettyTable) (0.2.5)\n",
      "Downloading prettytable-3.12.0-py3-none-any.whl (31 kB)\n",
      "Installing collected packages: PrettyTable\n",
      "Successfully installed PrettyTable-3.12.0\n"
     ]
    }
   ],
   "source": [
    "!pip install PrettyTable\n",
    "     "
   ]
  },
  {
   "cell_type": "code",
   "execution_count": 13,
   "id": "89eeea52-0f5d-449e-a453-2539300eceae",
   "metadata": {},
   "outputs": [
    {
     "name": "stdout",
     "output_type": "stream",
     "text": [
      "Requirement already satisfied: numpy in c:\\users\\hp\\anaconda3\\lib\\site-packages (1.26.4)\n"
     ]
    }
   ],
   "source": [
    "!pip install numpy"
   ]
  },
  {
   "cell_type": "code",
   "execution_count": 15,
   "id": "aee0d967-56ab-4eac-9d0f-b5ff832cc9c7",
   "metadata": {},
   "outputs": [
    {
     "name": "stdout",
     "output_type": "stream",
     "text": [
      "Requirement already satisfied: scikit-learn in c:\\users\\hp\\anaconda3\\lib\\site-packages (1.5.1)\n",
      "Requirement already satisfied: numpy>=1.19.5 in c:\\users\\hp\\anaconda3\\lib\\site-packages (from scikit-learn) (1.26.4)\n",
      "Requirement already satisfied: scipy>=1.6.0 in c:\\users\\hp\\anaconda3\\lib\\site-packages (from scikit-learn) (1.13.1)\n",
      "Requirement already satisfied: joblib>=1.2.0 in c:\\users\\hp\\anaconda3\\lib\\site-packages (from scikit-learn) (1.4.2)\n",
      "Requirement already satisfied: threadpoolctl>=3.1.0 in c:\\users\\hp\\anaconda3\\lib\\site-packages (from scikit-learn) (3.5.0)\n"
     ]
    }
   ],
   "source": [
    "!pip install scikit-learn"
   ]
  },
  {
   "cell_type": "code",
   "execution_count": 19,
   "id": "ea635bf9-434e-4e02-a98b-d3ed7bff1222",
   "metadata": {},
   "outputs": [
    {
     "name": "stdout",
     "output_type": "stream",
     "text": [
      "Collecting fitz\n",
      "  Downloading fitz-0.0.1.dev2-py2.py3-none-any.whl.metadata (816 bytes)\n",
      "Collecting configobj (from fitz)\n",
      "  Downloading configobj-5.0.9.tar.gz (101 kB)\n",
      "  Installing build dependencies: started\n",
      "  Installing build dependencies: finished with status 'done'\n",
      "  Getting requirements to build wheel: started\n",
      "  Getting requirements to build wheel: finished with status 'done'\n",
      "  Preparing metadata (pyproject.toml): started\n",
      "  Preparing metadata (pyproject.toml): finished with status 'done'\n",
      "Collecting configparser (from fitz)\n",
      "  Downloading configparser-7.1.0-py3-none-any.whl.metadata (5.4 kB)\n",
      "Collecting httplib2 (from fitz)\n",
      "  Downloading httplib2-0.22.0-py3-none-any.whl.metadata (2.6 kB)\n",
      "Collecting nibabel (from fitz)\n",
      "  Downloading nibabel-5.3.2-py3-none-any.whl.metadata (9.1 kB)\n",
      "Collecting nipype (from fitz)\n",
      "  Downloading nipype-1.9.1-py3-none-any.whl.metadata (6.8 kB)\n",
      "Requirement already satisfied: numpy in c:\\users\\hp\\anaconda3\\lib\\site-packages (from fitz) (1.26.4)\n",
      "Requirement already satisfied: pandas in c:\\users\\hp\\anaconda3\\lib\\site-packages (from fitz) (2.2.2)\n",
      "Collecting pyxnat (from fitz)\n",
      "  Downloading pyxnat-1.6.2-py3-none-any.whl.metadata (5.3 kB)\n",
      "Requirement already satisfied: scipy in c:\\users\\hp\\anaconda3\\lib\\site-packages (from fitz) (1.13.1)\n",
      "Requirement already satisfied: pyparsing!=3.0.0,!=3.0.1,!=3.0.2,!=3.0.3,<4,>=2.4.2 in c:\\users\\hp\\anaconda3\\lib\\site-packages (from httplib2->fitz) (3.1.2)\n",
      "Requirement already satisfied: packaging>=20 in c:\\users\\hp\\anaconda3\\lib\\site-packages (from nibabel->fitz) (24.1)\n",
      "Requirement already satisfied: typing-extensions>=4.6 in c:\\users\\hp\\anaconda3\\lib\\site-packages (from nibabel->fitz) (4.11.0)\n",
      "Requirement already satisfied: click>=6.6.0 in c:\\users\\hp\\anaconda3\\lib\\site-packages (from nipype->fitz) (8.1.7)\n",
      "Requirement already satisfied: networkx>=2.5 in c:\\users\\hp\\anaconda3\\lib\\site-packages (from nipype->fitz) (3.3)\n",
      "Collecting prov>=1.5.2 (from nipype->fitz)\n",
      "  Downloading prov-2.0.1-py3-none-any.whl.metadata (3.6 kB)\n",
      "Collecting pydot>=1.2.3 (from nipype->fitz)\n",
      "  Downloading pydot-3.0.2-py3-none-any.whl.metadata (10 kB)\n",
      "Requirement already satisfied: python-dateutil>=2.2 in c:\\users\\hp\\anaconda3\\lib\\site-packages (from nipype->fitz) (2.9.0.post0)\n",
      "Collecting rdflib>=5.0.0 (from nipype->fitz)\n",
      "  Downloading rdflib-7.1.1-py3-none-any.whl.metadata (11 kB)\n",
      "Collecting simplejson>=3.8.0 (from nipype->fitz)\n",
      "  Downloading simplejson-3.19.3-cp312-cp312-win_amd64.whl.metadata (3.2 kB)\n",
      "Collecting traits>=6.2 (from nipype->fitz)\n",
      "  Downloading traits-6.4.3-cp312-cp312-win_amd64.whl.metadata (5.2 kB)\n",
      "Requirement already satisfied: filelock>=3.0.0 in c:\\users\\hp\\anaconda3\\lib\\site-packages (from nipype->fitz) (3.13.1)\n",
      "Collecting acres (from nipype->fitz)\n",
      "  Downloading acres-0.1.0-py3-none-any.whl.metadata (3.2 kB)\n",
      "Collecting etelemetry>=0.3.1 (from nipype->fitz)\n",
      "  Downloading etelemetry-0.3.1-py3-none-any.whl.metadata (3.2 kB)\n",
      "Collecting looseversion!=1.2 (from nipype->fitz)\n",
      "  Downloading looseversion-1.3.0-py2.py3-none-any.whl.metadata (4.6 kB)\n",
      "Collecting puremagic (from nipype->fitz)\n",
      "  Downloading puremagic-1.28-py3-none-any.whl.metadata (5.8 kB)\n",
      "Requirement already satisfied: pytz>=2020.1 in c:\\users\\hp\\anaconda3\\lib\\site-packages (from pandas->fitz) (2024.1)\n",
      "Requirement already satisfied: tzdata>=2022.7 in c:\\users\\hp\\anaconda3\\lib\\site-packages (from pandas->fitz) (2023.3)\n",
      "Requirement already satisfied: lxml>=4.3 in c:\\users\\hp\\anaconda3\\lib\\site-packages (from pyxnat->fitz) (5.2.1)\n",
      "Requirement already satisfied: requests>=2.20 in c:\\users\\hp\\anaconda3\\lib\\site-packages (from pyxnat->fitz) (2.32.3)\n",
      "Collecting pathlib>=1.0 (from pyxnat->fitz)\n",
      "  Downloading pathlib-1.0.1-py3-none-any.whl.metadata (5.1 kB)\n",
      "Requirement already satisfied: colorama in c:\\users\\hp\\anaconda3\\lib\\site-packages (from click>=6.6.0->nipype->fitz) (0.4.6)\n",
      "Collecting ci-info>=0.2 (from etelemetry>=0.3.1->nipype->fitz)\n",
      "  Downloading ci_info-0.3.0-py3-none-any.whl.metadata (6.1 kB)\n",
      "Collecting rdflib>=5.0.0 (from nipype->fitz)\n",
      "  Downloading rdflib-6.3.2-py3-none-any.whl.metadata (11 kB)\n",
      "Requirement already satisfied: six>=1.5 in c:\\users\\hp\\anaconda3\\lib\\site-packages (from python-dateutil>=2.2->nipype->fitz) (1.16.0)\n",
      "Collecting isodate<0.7.0,>=0.6.0 (from rdflib>=5.0.0->nipype->fitz)\n",
      "  Downloading isodate-0.6.1-py2.py3-none-any.whl.metadata (9.6 kB)\n",
      "Requirement already satisfied: charset-normalizer<4,>=2 in c:\\users\\hp\\anaconda3\\lib\\site-packages (from requests>=2.20->pyxnat->fitz) (3.3.2)\n",
      "Requirement already satisfied: idna<4,>=2.5 in c:\\users\\hp\\anaconda3\\lib\\site-packages (from requests>=2.20->pyxnat->fitz) (3.7)\n",
      "Requirement already satisfied: urllib3<3,>=1.21.1 in c:\\users\\hp\\anaconda3\\lib\\site-packages (from requests>=2.20->pyxnat->fitz) (2.2.3)\n",
      "Requirement already satisfied: certifi>=2017.4.17 in c:\\users\\hp\\anaconda3\\lib\\site-packages (from requests>=2.20->pyxnat->fitz) (2024.8.30)\n",
      "Downloading fitz-0.0.1.dev2-py2.py3-none-any.whl (20 kB)\n",
      "Downloading configparser-7.1.0-py3-none-any.whl (17 kB)\n",
      "Downloading httplib2-0.22.0-py3-none-any.whl (96 kB)\n",
      "Downloading nibabel-5.3.2-py3-none-any.whl (3.3 MB)\n",
      "   ---------------------------------------- 0.0/3.3 MB ? eta -:--:--\n",
      "   --- ------------------------------------ 0.3/3.3 MB ? eta -:--:--\n",
      "   --------------- ------------------------ 1.3/3.3 MB 3.9 MB/s eta 0:00:01\n",
      "   ---------------------------- ----------- 2.4/3.3 MB 4.3 MB/s eta 0:00:01\n",
      "   -------------------------------------- - 3.1/3.3 MB 4.4 MB/s eta 0:00:01\n",
      "   ---------------------------------------- 3.3/3.3 MB 4.2 MB/s eta 0:00:00\n",
      "Downloading nipype-1.9.1-py3-none-any.whl (3.2 MB)\n",
      "   ---------------------------------------- 0.0/3.2 MB ? eta -:--:--\n",
      "   ------------- -------------------------- 1.0/3.2 MB 4.6 MB/s eta 0:00:01\n",
      "   ---------------------- ----------------- 1.8/3.2 MB 4.4 MB/s eta 0:00:01\n",
      "   ------------------------------------ --- 2.9/3.2 MB 4.3 MB/s eta 0:00:01\n",
      "   ---------------------------------------- 3.2/3.2 MB 4.2 MB/s eta 0:00:00\n",
      "Downloading pyxnat-1.6.2-py3-none-any.whl (95 kB)\n",
      "Downloading etelemetry-0.3.1-py3-none-any.whl (6.4 kB)\n",
      "Downloading looseversion-1.3.0-py2.py3-none-any.whl (8.2 kB)\n",
      "Downloading pathlib-1.0.1-py3-none-any.whl (14 kB)\n",
      "Downloading prov-2.0.1-py3-none-any.whl (421 kB)\n",
      "Downloading pydot-3.0.2-py3-none-any.whl (35 kB)\n",
      "Downloading rdflib-6.3.2-py3-none-any.whl (528 kB)\n",
      "   ---------------------------------------- 0.0/528.1 kB ? eta -:--:--\n",
      "   ---------------------------------------- 528.1/528.1 kB 2.8 MB/s eta 0:00:00\n",
      "Downloading simplejson-3.19.3-cp312-cp312-win_amd64.whl (75 kB)\n",
      "Downloading traits-6.4.3-cp312-cp312-win_amd64.whl (5.0 MB)\n",
      "   ---------------------------------------- 0.0/5.0 MB ? eta -:--:--\n",
      "   -------- ------------------------------- 1.0/5.0 MB 4.6 MB/s eta 0:00:01\n",
      "   -------------- ------------------------- 1.8/5.0 MB 4.6 MB/s eta 0:00:01\n",
      "   ----------------------- ---------------- 2.9/5.0 MB 4.4 MB/s eta 0:00:01\n",
      "   ------------------------------- -------- 3.9/5.0 MB 4.6 MB/s eta 0:00:01\n",
      "   ------------------------------------- -- 4.7/5.0 MB 4.5 MB/s eta 0:00:01\n",
      "   ---------------------------------------- 5.0/5.0 MB 4.4 MB/s eta 0:00:00\n",
      "Downloading acres-0.1.0-py3-none-any.whl (9.1 kB)\n",
      "Downloading puremagic-1.28-py3-none-any.whl (43 kB)\n",
      "Downloading ci_info-0.3.0-py3-none-any.whl (7.8 kB)\n",
      "Downloading isodate-0.6.1-py2.py3-none-any.whl (41 kB)\n",
      "Building wheels for collected packages: configobj\n",
      "  Building wheel for configobj (pyproject.toml): started\n",
      "  Building wheel for configobj (pyproject.toml): finished with status 'done'\n",
      "  Created wheel for configobj: filename=configobj-5.0.9-py2.py3-none-any.whl size=35635 sha256=fdff7a4a43a25ea3820cba83f6f7fcd5456512cd050417ffc70613e3ba32e43b\n",
      "  Stored in directory: c:\\users\\hp\\appdata\\local\\pip\\cache\\wheels\\07\\5a\\10\\d2fe92a9f4c6a57c0b75d362bd02b79c4cf5a6cdcadacd1c5f\n",
      "Successfully built configobj\n",
      "Installing collected packages: puremagic, pathlib, looseversion, traits, simplejson, pydot, nibabel, isodate, httplib2, configparser, configobj, ci-info, acres, rdflib, pyxnat, etelemetry, prov, nipype, fitz\n",
      "Successfully installed acres-0.1.0 ci-info-0.3.0 configobj-5.0.9 configparser-7.1.0 etelemetry-0.3.1 fitz-0.0.1.dev2 httplib2-0.22.0 isodate-0.6.1 looseversion-1.3.0 nibabel-5.3.2 nipype-1.9.1 pathlib-1.0.1 prov-2.0.1 puremagic-1.28 pydot-3.0.2 pyxnat-1.6.2 rdflib-6.3.2 simplejson-3.19.3 traits-6.4.3\n"
     ]
    }
   ],
   "source": [
    "!pip install fitz"
   ]
  },
  {
   "cell_type": "code",
   "execution_count": 28,
   "id": "b2db5e3c-08a8-4899-a16a-2f8118907640",
   "metadata": {},
   "outputs": [
    {
     "ename": "ModuleNotFoundError",
     "evalue": "No module named 'frontend'",
     "output_type": "error",
     "traceback": [
      "\u001b[1;31m---------------------------------------------------------------------------\u001b[0m",
      "\u001b[1;31mModuleNotFoundError\u001b[0m                       Traceback (most recent call last)",
      "Cell \u001b[1;32mIn[28], line 6\u001b[0m\n\u001b[0;32m      4\u001b[0m \u001b[38;5;28;01mfrom\u001b[39;00m \u001b[38;5;21;01msklearn\u001b[39;00m \u001b[38;5;28;01mimport\u001b[39;00m linear_model\n\u001b[0;32m      5\u001b[0m \u001b[38;5;28;01mimport\u001b[39;00m \u001b[38;5;21;01mdifflib\u001b[39;00m\n\u001b[1;32m----> 6\u001b[0m \u001b[38;5;28;01mimport\u001b[39;00m \u001b[38;5;21;01mfitz\u001b[39;00m\n\u001b[0;32m      7\u001b[0m \u001b[38;5;28;01mimport\u001b[39;00m \u001b[38;5;21;01mnltk\u001b[39;00m\n\u001b[0;32m      8\u001b[0m \u001b[38;5;28;01mfrom\u001b[39;00m \u001b[38;5;21;01mnltk\u001b[39;00m\u001b[38;5;21;01m.\u001b[39;00m\u001b[38;5;21;01mtokenize\u001b[39;00m \u001b[38;5;28;01mimport\u001b[39;00m word_tokenize\n",
      "File \u001b[1;32m~\\anaconda3\\Lib\\site-packages\\fitz\\__init__.py:1\u001b[0m\n\u001b[1;32m----> 1\u001b[0m \u001b[38;5;28;01mfrom\u001b[39;00m \u001b[38;5;21;01mfrontend\u001b[39;00m \u001b[38;5;28;01mimport\u001b[39;00m \u001b[38;5;241m*\u001b[39m\n\u001b[0;32m      2\u001b[0m \u001b[38;5;28;01mimport\u001b[39;00m \u001b[38;5;21;01mtools\u001b[39;00m\n\u001b[0;32m      3\u001b[0m \u001b[38;5;28;01mimport\u001b[39;00m \u001b[38;5;21;01mos\u001b[39;00m\u001b[38;5;21;01m.\u001b[39;00m\u001b[38;5;21;01mpath\u001b[39;00m \u001b[38;5;28;01mas\u001b[39;00m \u001b[38;5;21;01mop\u001b[39;00m\n",
      "\u001b[1;31mModuleNotFoundError\u001b[0m: No module named 'frontend'"
     ]
    }
   ],
   "source": [
    "import pandas as pd\n",
    "import matplotlib as plt\n",
    "import numpy as np\n",
    "from sklearn import linear_model\n",
    "import difflib\n",
    "import fitz\n",
    "import nltk\n",
    "from nltk.tokenize import word_tokenize\n",
    "from nltk.corpus import stopwords\n",
    "nltk.download('punkt')\n",
    "nltk.download('stopwords')\n",
    "import matplotlib.pyplot as plt"
   ]
  },
  {
   "cell_type": "code",
   "execution_count": null,
   "id": "09ad8f09-4109-4272-bd08-63e18752d2c4",
   "metadata": {},
   "outputs": [],
   "source": [
    "def read_pdf(file_path):\n",
    "    doc = fitz.open(file_path)\n",
    "    text = \"\"\n",
    "    for page_num in range(doc.page_count):\n",
    "        page = doc[page_num]\n",
    "        text += page.get_text()\n",
    "    return text"
   ]
  },
  {
   "cell_type": "code",
   "execution_count": null,
   "id": "f5efb1e9-7037-4b0a-88d6-fd21d86ec11d",
   "metadata": {},
   "outputs": [],
   "source": [
    "def calculate_match_percentage(master_text, other_text):\n",
    "    matcher = difflib.SequenceMatcher(None, master_text, other_text)\n",
    "    return round(matcher.ratio() * 100, 2)"
   ]
  },
  {
   "cell_type": "code",
   "execution_count": null,
   "id": "113eb2fc-7ab2-423d-9fd7-fcc1b33b48de",
   "metadata": {},
   "outputs": [],
   "source": [
    "def extract_keywords(text):\n",
    "    stop_words = set(stopwords.words('english'))\n",
    "    words = word_tokenize(text)\n",
    "    keywords = [word.lower() for word in words if word.isalnum() and word.lower() not in stop_words]\n",
    "    return keywords"
   ]
  },
  {
   "cell_type": "code",
   "execution_count": null,
   "id": "c952f5c6-44ca-4f73-8413-ee9c1f343931",
   "metadata": {},
   "outputs": [],
   "source": [
    "import matplotlib.pyplot as plt\n",
    "from prettytable import PrettyTable\n",
    "\n",
    "def main():\n",
    "    # Upload the master document\n",
    "    uploaded_master = files.upload()\n",
    "    master_document_path = list(uploaded_master.keys())[0]\n",
    "\n",
    "    # Upload the other documents\n",
    "    uploaded_others = files.upload()\n",
    "    other_documents_paths = list(uploaded_others.keys())\n",
    "\n",
    "    # Now you can use the file paths in your script\n",
    "    master_text = read_pdf(master_document_path)\n",
    "    results = []\n",
    "    all_keywords = []\n",
    "\n",
    "    for doc_path in other_documents_paths:\n",
    "        other_text = read_pdf(doc_path)\n",
    "        match_percentage = calculate_match_percentage(master_text, other_text)\n",
    "        keywords = extract_keywords(other_text)\n",
    "        results.append({'document': doc_path, 'match_percentage': match_percentage, 'keywords': keywords})\n",
    "        all_keywords.extend(keywords)\n",
    "\n",
    "    results.sort(key=lambda x: x['match_percentage'], reverse=True)\n",
    "\n",
    "    # Displaying results in a table\n",
    "    table = PrettyTable()\n",
    "    table.field_names = [\"Document\", \"Match Percentage\", \"Keywords\"]\n",
    "\n",
    "    for result in results:\n",
    "        table.add_row([result['document'], f\"{result['match_percentage']}%\", ', '.join(result['keywords'])])\n",
    "\n",
    "    print(table)\n",
    "\n",
    "    # Save highly repeated keywords to a separate file\n",
    "    save_highly_repeated_keywords(all_keywords)\n",
    "\n",
    "    # Plotting the graph\n",
    "    documents = [result['document'] for result in results]\n",
    "    match_percentages = [result['match_percentage'] for result in results]\n",
    "\n",
    "    plt.figure(figsize=(8, 4))\n",
    "    plt.bar(documents, match_percentages, color='green')\n",
    "    plt.xlabel('Documents')\n",
    "    plt.ylabel('Match Percentage')\n",
    "    plt.title('Document Matching Percentage')\n",
    "    plt.xticks(rotation=45, ha='right')\n",
    "    plt.tight_layout()\n",
    "    plt.show()\n",
    "\n",
    "\n",
    "def save_highly_repeated_keywords(all_keywords):\n",
    "    # Set a threshold for keyword repetition\n",
    "    repetition_threshold = 2\n",
    "\n",
    "    # Count the occurrences of each keyword\n",
    "    keyword_counts = {keyword: all_keywords.count(keyword) for keyword in set(all_keywords)}\n",
    "\n",
    "    # Filter keywords that are repeated more than the threshold\n",
    "    highly_repeated_keywords = [keyword for keyword, count in keyword_counts.items() if count > repetition_threshold]\n",
    "\n",
    "    # Save and print highly repeated keywords to a file\n",
    "    with open(\"highly_repeated_keywords.txt\", \"w\") as file:\n",
    "        file.write(\"Highly Repeated Keywords:\\n\")\n",
    "        file.write(\", \".join(highly_repeated_keywords))\n",
    "\n",
    "    # Print highly repeated keywords to the console\n",
    "    print(\"Highly Repeated Keywords:\", \", \".join(highly_repeated_keywords))\n",
    "\n",
    "\n",
    "\n",
    "if __name__ == \"__main__\":\n",
    "    main()"
   ]
  },
  {
   "cell_type": "code",
   "execution_count": null,
   "id": "50e8a4ac-5682-4f55-902f-35de277fc7fa",
   "metadata": {},
   "outputs": [],
   "source": []
  }
 ],
 "metadata": {
  "kernelspec": {
   "display_name": "Python 3 (ipykernel)",
   "language": "python",
   "name": "python3"
  },
  "language_info": {
   "codemirror_mode": {
    "name": "ipython",
    "version": 3
   },
   "file_extension": ".py",
   "mimetype": "text/x-python",
   "name": "python",
   "nbconvert_exporter": "python",
   "pygments_lexer": "ipython3",
   "version": "3.12.7"
  }
 },
 "nbformat": 4,
 "nbformat_minor": 5
}
